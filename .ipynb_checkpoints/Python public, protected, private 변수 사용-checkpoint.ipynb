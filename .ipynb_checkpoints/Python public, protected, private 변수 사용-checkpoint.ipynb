{
 "cells": [
  {
   "cell_type": "markdown",
   "metadata": {},
   "source": [
    "# Python public, protected, private 변수 사용\n",
    "\n",
    "파이썬에는 자바나 C++처럼 public, protected, private 변수 기능을 따로 제공하지 않습니다. 다만 Convention처럼 그 의미를 프로그래머가 명시할 수 있는데, 그것은 [PEP8](https://www.python.org/dev/peps/pep-0008/)에서 확인할 수 있습니다. `__`(double underbar)는 private, `_`(single underbar)는 protected 변수를 의미합니다. `__`를 사용해 private 변수 선언하고, 밖에서 해당 변수를 참조하려고 하면, 해당 변수를 찾을 수 없다고 에러메시지를 띄워주는데, 이는 사실상 그 변수에 대한 접근을 막는 것이 아니라, 진짜 찾을 수 없기 때문에 찾을 수 없다고 말하는 것입니다. 왜냐하면 파이썬 인터프리터가 `__변수이름`로 선언된 변수들은 자동적으로 `__클래스이름_변수이름`으로 이름을 바꿔서 저장하기 때문입니다. 그것을 파이썬에서는 [name mangling](https://en.wikipedia.org/wiki/Name_mangling#Name_mangling_in_Python)이라고 합니다."
   ]
  },
  {
   "cell_type": "markdown",
   "metadata": {},
   "source": [
    "## public\n",
    "\n",
    "아무데서나 접근 및 수정 가능"
   ]
  },
  {
   "cell_type": "code",
   "execution_count": 118,
   "metadata": {
    "collapsed": true
   },
   "outputs": [],
   "source": [
    "class CupPublic():\n",
    "    def __init__(self):\n",
    "        self.content = None\n",
    "        self.color = 'Red'\n",
    "        \n",
    "    def fill(self, content):\n",
    "        self.content = content\n",
    "        \n",
    "    def empty(self):\n",
    "        self.content = None"
   ]
  },
  {
   "cell_type": "code",
   "execution_count": 119,
   "metadata": {
    "collapsed": true
   },
   "outputs": [],
   "source": [
    "c = CupPublic()"
   ]
  },
  {
   "cell_type": "code",
   "execution_count": 120,
   "metadata": {
    "collapsed": false
   },
   "outputs": [
    {
     "data": {
      "text/plain": [
       "'Red'"
      ]
     },
     "execution_count": 120,
     "metadata": {},
     "output_type": "execute_result"
    }
   ],
   "source": [
    "c.color"
   ]
  },
  {
   "cell_type": "markdown",
   "metadata": {},
   "source": [
    "## Protected\n",
    "\n",
    "`_` 사용. 아무데서나 접근/수정이 가능은 하지만, 다른 프로그래머에게 굳이 그러지 말아달라고 정중히 부탁. 관용적으로 해당 클래스와 서브 클래스에서만 사용 가능."
   ]
  },
  {
   "cell_type": "code",
   "execution_count": 121,
   "metadata": {
    "collapsed": true
   },
   "outputs": [],
   "source": [
    "class CupProtected():\n",
    "    def __init__(self):\n",
    "        self._content = None\n",
    "        self._color = 'Red'\n",
    "        \n",
    "    def fill(self, content):\n",
    "        self._content = content\n",
    "        \n",
    "    def empty(self):\n",
    "        self._content = None"
   ]
  },
  {
   "cell_type": "code",
   "execution_count": 122,
   "metadata": {
    "collapsed": true
   },
   "outputs": [],
   "source": [
    "c = CupProtected()"
   ]
  },
  {
   "cell_type": "code",
   "execution_count": 124,
   "metadata": {
    "collapsed": false
   },
   "outputs": [
    {
     "data": {
      "text/plain": [
       "'Red'"
      ]
     },
     "execution_count": 124,
     "metadata": {},
     "output_type": "execute_result"
    }
   ],
   "source": [
    "c._color"
   ]
  },
  {
   "cell_type": "markdown",
   "metadata": {},
   "source": [
    "## Private\n",
    "\n",
    "`__변수이름`사용. 파이썬 Name mangling 기능으로 실제로 이름이 `_클래스이름__변수이름`바뀌어버림. 그니까 `__변수이름`으로 접근하려면 찾을 수 없다고 나옴. `_클래스이름_변수이름`으로는 언제나 접근/수정 가능. 하지만 제발 그러지 말아주길 부탁. 변수 뿐만아니라 `__메소드이름`도 마찬가지."
   ]
  },
  {
   "cell_type": "code",
   "execution_count": 125,
   "metadata": {
    "collapsed": true
   },
   "outputs": [],
   "source": [
    "class CupPrivate():\n",
    "    def __init__(self):\n",
    "        self.__content = None\n",
    "        self._color = 'Red'\n",
    "        \n",
    "    def fill(self, content):\n",
    "        self.__content = content\n",
    "        \n",
    "    def empty(self):\n",
    "        self.__content = None\n",
    "        \n",
    "    def __hello(self):\n",
    "        print 'hello'"
   ]
  },
  {
   "cell_type": "code",
   "execution_count": 126,
   "metadata": {
    "collapsed": true
   },
   "outputs": [],
   "source": [
    "c = CupPrivate()"
   ]
  },
  {
   "cell_type": "code",
   "execution_count": 127,
   "metadata": {
    "collapsed": false
   },
   "outputs": [
    {
     "data": {
      "text/plain": [
       "['_CupPrivate__content',\n",
       " '_CupPrivate__hello',\n",
       " '__doc__',\n",
       " '__init__',\n",
       " '__module__',\n",
       " '_color',\n",
       " 'empty',\n",
       " 'fill']"
      ]
     },
     "execution_count": 127,
     "metadata": {},
     "output_type": "execute_result"
    }
   ],
   "source": [
    "dir(c)"
   ]
  },
  {
   "cell_type": "code",
   "execution_count": 128,
   "metadata": {
    "collapsed": false
   },
   "outputs": [
    {
     "name": "stdout",
     "output_type": "stream",
     "text": [
      "hello\n"
     ]
    }
   ],
   "source": [
    "c._CupPrivate__hello()"
   ]
  },
  {
   "cell_type": "code",
   "execution_count": 129,
   "metadata": {
    "collapsed": false
   },
   "outputs": [
    {
     "ename": "AttributeError",
     "evalue": "CupPrivate instance has no attribute '__content'",
     "output_type": "error",
     "traceback": [
      "\u001b[0;31m---------------------------------------------------------------------------\u001b[0m",
      "\u001b[0;31mAttributeError\u001b[0m                            Traceback (most recent call last)",
      "\u001b[0;32m<ipython-input-129-3bec88a5e237>\u001b[0m in \u001b[0;36m<module>\u001b[0;34m()\u001b[0m\n\u001b[0;32m----> 1\u001b[0;31m \u001b[0mc\u001b[0m\u001b[0;34m.\u001b[0m\u001b[0m__content\u001b[0m\u001b[0;34m\u001b[0m\u001b[0m\n\u001b[0m",
      "\u001b[0;31mAttributeError\u001b[0m: CupPrivate instance has no attribute '__content'"
     ]
    }
   ],
   "source": [
    "c.__content"
   ]
  },
  {
   "cell_type": "code",
   "execution_count": 130,
   "metadata": {
    "collapsed": true
   },
   "outputs": [],
   "source": [
    "c.fill('Juice')"
   ]
  },
  {
   "cell_type": "code",
   "execution_count": 131,
   "metadata": {
    "collapsed": false
   },
   "outputs": [
    {
     "name": "stdout",
     "output_type": "stream",
     "text": [
      "Juice\n"
     ]
    }
   ],
   "source": [
    "print c._CupPrivate__content"
   ]
  },
  {
   "cell_type": "code",
   "execution_count": 132,
   "metadata": {
    "collapsed": true
   },
   "outputs": [],
   "source": [
    "c.__content = 'Juice'"
   ]
  },
  {
   "cell_type": "code",
   "execution_count": 133,
   "metadata": {
    "collapsed": false
   },
   "outputs": [
    {
     "data": {
      "text/plain": [
       "'Juice'"
      ]
     },
     "execution_count": 133,
     "metadata": {},
     "output_type": "execute_result"
    }
   ],
   "source": [
    "c.__content"
   ]
  },
  {
   "cell_type": "markdown",
   "metadata": {},
   "source": [
    "### 참고 링크\n",
    "- http://radek.io/2011/07/21/private-protected-and-public-in-python/\n",
    "- http://stackoverflow.com/questions/1641219/does-python-have-private-variables-in-classes\n",
    "- http://stackoverflow.com/questions/215497/difference-among-public-default-protected-and-private"
   ]
  }
 ],
 "metadata": {
  "kernelspec": {
   "display_name": "Python 2",
   "language": "python",
   "name": "python2"
  },
  "language_info": {
   "codemirror_mode": {
    "name": "ipython",
    "version": 2
   },
   "file_extension": ".py",
   "mimetype": "text/x-python",
   "name": "python",
   "nbconvert_exporter": "python",
   "pygments_lexer": "ipython2",
   "version": "2.7.9"
  }
 },
 "nbformat": 4,
 "nbformat_minor": 0
}
